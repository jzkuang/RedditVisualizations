{
 "cells": [
  {
   "cell_type": "code",
   "execution_count": 57,
   "id": "004e24f5",
   "metadata": {},
   "outputs": [],
   "source": [
    "import matplotlib.pyplot as plt \n",
    "import pandas as pd"
   ]
  },
  {
   "cell_type": "code",
   "execution_count": 45,
   "id": "f5ad8d6f",
   "metadata": {},
   "outputs": [
    {
     "data": {
      "text/html": [
       "<div>\n",
       "<style scoped>\n",
       "    .dataframe tbody tr th:only-of-type {\n",
       "        vertical-align: middle;\n",
       "    }\n",
       "\n",
       "    .dataframe tbody tr th {\n",
       "        vertical-align: top;\n",
       "    }\n",
       "\n",
       "    .dataframe thead th {\n",
       "        text-align: right;\n",
       "    }\n",
       "</style>\n",
       "<table border=\"1\" class=\"dataframe\">\n",
       "  <thead>\n",
       "    <tr style=\"text-align: right;\">\n",
       "      <th></th>\n",
       "      <th>Date</th>\n",
       "      <th>Hansard ref</th>\n",
       "      <th>Member</th>\n",
       "      <th>Party</th>\n",
       "      <th>Reason for suspension</th>\n",
       "      <th>Period</th>\n",
       "    </tr>\n",
       "  </thead>\n",
       "  <tbody>\n",
       "    <tr>\n",
       "      <th>count</th>\n",
       "      <td>58</td>\n",
       "      <td>58</td>\n",
       "      <td>58</td>\n",
       "      <td>58</td>\n",
       "      <td>59</td>\n",
       "      <td>59</td>\n",
       "    </tr>\n",
       "    <tr>\n",
       "      <th>unique</th>\n",
       "      <td>51</td>\n",
       "      <td>52</td>\n",
       "      <td>48</td>\n",
       "      <td>8</td>\n",
       "      <td>31</td>\n",
       "      <td>17</td>\n",
       "    </tr>\n",
       "    <tr>\n",
       "      <th>top</th>\n",
       "      <td>2021-09-09 00:00:00</td>\n",
       "      <td>Vol 700 cc500-506</td>\n",
       "      <td>Tam Dalyell</td>\n",
       "      <td>Lab</td>\n",
       "      <td>SOs relating to disorderly conduct</td>\n",
       "      <td>5 sitting days</td>\n",
       "    </tr>\n",
       "    <tr>\n",
       "      <th>freq</th>\n",
       "      <td>3</td>\n",
       "      <td>3</td>\n",
       "      <td>4</td>\n",
       "      <td>29</td>\n",
       "      <td>24</td>\n",
       "      <td>32</td>\n",
       "    </tr>\n",
       "  </tbody>\n",
       "</table>\n",
       "</div>"
      ],
      "text/plain": [
       "                       Date        Hansard ref        Member Party  \\\n",
       "count                    58                 58            58    58   \n",
       "unique                   51                 52            48     8   \n",
       "top     2021-09-09 00:00:00  Vol 700 cc500-506  Tam Dalyell    Lab   \n",
       "freq                      3                  3             4    29   \n",
       "\n",
       "                     Reason for suspension          Period  \n",
       "count                                   59              59  \n",
       "unique                                  31              17  \n",
       "top     SOs relating to disorderly conduct  5 sitting days  \n",
       "freq                                    24              32  "
      ]
     },
     "execution_count": 45,
     "metadata": {},
     "output_type": "execute_result"
    }
   ],
   "source": [
    "suspended = pd.read_excel(\"CBP02430_DATA.xlsx\", sheet_name = 0, skiprows =2)\n",
    "kicked = pd.read_excel(\"CBP02430_DATA.xlsx\", sheet_name = 1, skiprows =2)\n",
    "pd.DataFrame.describe(kicked)"
   ]
  },
  {
   "cell_type": "code",
   "execution_count": 117,
   "id": "80ab97a1",
   "metadata": {},
   "outputs": [
    {
     "data": {
      "text/html": [
       "<div>\n",
       "<style scoped>\n",
       "    .dataframe tbody tr th:only-of-type {\n",
       "        vertical-align: middle;\n",
       "    }\n",
       "\n",
       "    .dataframe tbody tr th {\n",
       "        vertical-align: top;\n",
       "    }\n",
       "\n",
       "    .dataframe thead th {\n",
       "        text-align: right;\n",
       "    }\n",
       "</style>\n",
       "<table border=\"1\" class=\"dataframe\">\n",
       "  <thead>\n",
       "    <tr style=\"text-align: right;\">\n",
       "      <th>col_0</th>\n",
       "      <th>count</th>\n",
       "    </tr>\n",
       "  </thead>\n",
       "  <tbody>\n",
       "    <tr>\n",
       "      <th>count</th>\n",
       "      <td>8.000000</td>\n",
       "    </tr>\n",
       "    <tr>\n",
       "      <th>mean</th>\n",
       "      <td>7.250000</td>\n",
       "    </tr>\n",
       "    <tr>\n",
       "      <th>std</th>\n",
       "      <td>9.647353</td>\n",
       "    </tr>\n",
       "    <tr>\n",
       "      <th>min</th>\n",
       "      <td>1.000000</td>\n",
       "    </tr>\n",
       "    <tr>\n",
       "      <th>25%</th>\n",
       "      <td>1.750000</td>\n",
       "    </tr>\n",
       "    <tr>\n",
       "      <th>50%</th>\n",
       "      <td>3.000000</td>\n",
       "    </tr>\n",
       "    <tr>\n",
       "      <th>75%</th>\n",
       "      <td>7.750000</td>\n",
       "    </tr>\n",
       "    <tr>\n",
       "      <th>max</th>\n",
       "      <td>29.000000</td>\n",
       "    </tr>\n",
       "  </tbody>\n",
       "</table>\n",
       "</div>"
      ],
      "text/plain": [
       "col_0      count\n",
       "count   8.000000\n",
       "mean    7.250000\n",
       "std     9.647353\n",
       "min     1.000000\n",
       "25%     1.750000\n",
       "50%     3.000000\n",
       "75%     7.750000\n",
       "max    29.000000"
      ]
     },
     "execution_count": 117,
     "metadata": {},
     "output_type": "execute_result"
    }
   ],
   "source": [
    "party_frequency = pd.crosstab(index=kicked[\"Party\"],  # Make a crosstab\n",
    "                     columns=\"count\") \n",
    "party_frequency = party_frequency.rename(index={\"Con\": \"Conservative\",\n",
    "                                  \"DUP\":\"Democratic Unionist Party\",\n",
    "                                  \"Ind\": \"Independent\",\n",
    "                                  \"Lab\": \"Labour\",\n",
    "                                  \"Lib Dem\": \"Liberal Democrats\",\n",
    "                                  \"SNP\": \"Scottish National Party\",\n",
    "                                  \"PC\": \"Plaid Cymru\"})\n",
    "pd.DataFrame.describe(party_frequency)"
   ]
  },
  {
   "cell_type": "code",
   "execution_count": 122,
   "id": "130bd2b8",
   "metadata": {},
   "outputs": [
    {
     "data": {
      "text/plain": [
       "<matplotlib.legend.Legend at 0x24801dac2e0>"
      ]
     },
     "execution_count": 122,
     "metadata": {},
     "output_type": "execute_result"
    },
    {
     "data": {
      "image/png": "[encoded data removed]",
      "text/plain": [
       "<Figure size 432x288 with 1 Axes>"
      ]
     },
     "metadata": {},
     "output_type": "display_data"
    }
   ],
   "source": [
    "plot = party_frequency.plot.pie( y = \"count\", labels = None, explode = [.15, 0, 0, 0, 0, 0, 0, 0],\n",
    "                                startangle=0, shadow=True)\n",
    "plot.axes.get_yaxis().set_visible(False)\n",
    "plot.axes.get_legend().set_visible(False)\n",
    "total = party_frequency[\"count\"].sum()\n",
    "legend_labels = ['%s, %1.1f%%' % (\n",
    "        l, (float(s) / total) * 100) for l, s in zip(party_frequency.index, party_frequency.loc[:,\"count\"])]\n",
    "plt.legend(\n",
    "    loc='upper left',\n",
    "    labels= legend_labels,\n",
    "    prop={'size': 12},\n",
    "    bbox_to_anchor=(1, 0.875)\n",
    ")\n"
   ]
  },
  {
   "cell_type": "code",
   "execution_count": null,
   "id": "947af58f",
   "metadata": {},
   "outputs": [],
   "source": []
  }
 ],
 "metadata": {
  "kernelspec": {
   "display_name": "Python 3 (ipykernel)",
   "language": "python",
   "name": "python3"
  },
  "language_info": {
   "codemirror_mode": {
    "name": "ipython",
    "version": 3
   },
   "file_extension": ".py",
   "mimetype": "text/x-python",
   "name": "python",
   "nbconvert_exporter": "python",
   "pygments_lexer": "ipython3",
   "version": "3.9.1"
  }
 },
 "nbformat": 4,
 "nbformat_minor": 5
}
